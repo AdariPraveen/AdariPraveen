{
  "nbformat": 4,
  "nbformat_minor": 0,
  "metadata": {
    "colab": {
      "provenance": [],
      "authorship_tag": "ABX9TyNaWiPM8sCjyWsfjt99e+id",
      "include_colab_link": true
    },
    "kernelspec": {
      "name": "python3",
      "display_name": "Python 3"
    },
    "language_info": {
      "name": "python"
    }
  },
  "cells": [
    {
      "cell_type": "markdown",
      "metadata": {
        "id": "view-in-github",
        "colab_type": "text"
      },
      "source": [
        "<a href=\"https://colab.research.google.com/github/AdariPraveen/AdariPraveen/blob/main/WEATHERDATACLASSIFICATION.ipynb\" target=\"_parent\"><img src=\"https://colab.research.google.com/assets/colab-badge.svg\" alt=\"Open In Colab\"/></a>"
      ]
    },
    {
      "cell_type": "code",
      "execution_count": 2,
      "metadata": {
        "id": "jdRLVe8q9wFg",
        "colab": {
          "base_uri": "https://localhost:8080/"
        },
        "outputId": "831cfefd-f27e-4ea4-f0e6-395cffb6b0d9"
      },
      "outputs": [
        {
          "output_type": "stream",
          "name": "stdout",
          "text": [
            "fatal: destination path 'AdariPraveen' already exists and is not an empty directory.\n"
          ]
        }
      ],
      "source": [
        "!git clone https://github.com/AdariPraveen/AdariPraveen.git"
      ]
    },
    {
      "cell_type": "code",
      "source": [
        "import pandas as pd\n",
        "from sklearn.ensemble import RandomForestClassifier\n",
        "from sklearn.model_selection import train_test_split\n",
        "from sklearn.metrics import accuracy_score\n",
        "from sklearn.metrics import classification_report\n",
        "from sklearn.model_selection import cross_val_score\n",
        "from sklearn.metrics import classification_report,confusion_matrix\n",
        "from sklearn.metrics import mean_squared_error,r2_score"
      ],
      "metadata": {
        "id": "xqdN5JCyZ4ne"
      },
      "execution_count": 3,
      "outputs": []
    },
    {
      "cell_type": "code",
      "source": [
        "weather_data=pd.read_csv('AdariPraveen/daily_weather.csv')\n",
        "weather_data"
      ],
      "metadata": {
        "colab": {
          "base_uri": "https://localhost:8080/",
          "height": 461
        },
        "id": "YFJfD2gp-YL9",
        "outputId": "21e95952-83ad-4ba3-fd8d-12b02e4b7a5e"
      },
      "execution_count": 9,
      "outputs": [
        {
          "output_type": "execute_result",
          "data": {
            "text/plain": [
              "      number  air_pressure_9am  air_temp_9am  avg_wind_direction_9am  \\\n",
              "0          0        918.060000     74.822000              271.100000   \n",
              "1          1        917.347688     71.403843              101.935179   \n",
              "2          2        923.040000     60.638000               51.000000   \n",
              "3          3        920.502751     70.138895              198.832133   \n",
              "4          4        921.160000     44.294000              277.800000   \n",
              "...      ...               ...           ...                     ...   \n",
              "1090    1090        918.900000     63.104000              192.900000   \n",
              "1091    1091        918.710000     49.568000              241.600000   \n",
              "1092    1092        916.600000     71.096000              189.300000   \n",
              "1093    1093        912.600000     58.406000              172.700000   \n",
              "1094    1094        921.530000     77.702000               97.100000   \n",
              "\n",
              "      avg_wind_speed_9am  max_wind_direction_9am  max_wind_speed_9am  \\\n",
              "0               2.080354              295.400000            2.863283   \n",
              "1               2.443009              140.471549            3.533324   \n",
              "2              17.067852               63.700000           22.100967   \n",
              "3               4.337363              211.203341            5.190045   \n",
              "4               1.856660              136.500000            2.863283   \n",
              "...                  ...                     ...                 ...   \n",
              "1090            3.869906              207.300000            5.212070   \n",
              "1091            1.811921              227.400000            2.371156   \n",
              "1092            3.064608              200.800000            3.892276   \n",
              "1093            3.825167              189.100000            4.764682   \n",
              "1094            3.265932              125.900000            4.451511   \n",
              "\n",
              "      rain_accumulation_9am  rain_duration_9am  relative_humidity_9am  \\\n",
              "0                       0.0                0.0              42.420000   \n",
              "1                       0.0                0.0              24.328697   \n",
              "2                       0.0               20.0               8.900000   \n",
              "3                       0.0                0.0              12.189102   \n",
              "4                       8.9            14730.0              92.410000   \n",
              "...                     ...                ...                    ...   \n",
              "1090                    0.0                0.0              26.020000   \n",
              "1091                    0.0                0.0              90.350000   \n",
              "1092                    0.0                0.0              45.590000   \n",
              "1093                    0.0                0.0              64.840000   \n",
              "1094                    0.0                0.0              14.560000   \n",
              "\n",
              "      relative_humidity_3pm  Unnamed: 11  \n",
              "0                 36.160000          NaN  \n",
              "1                 19.426597          NaN  \n",
              "2                 14.460000          NaN  \n",
              "3                 12.742547          NaN  \n",
              "4                 76.740000          NaN  \n",
              "...                     ...          ...  \n",
              "1090              38.180000          NaN  \n",
              "1091              73.340000          NaN  \n",
              "1092              52.310000          NaN  \n",
              "1093              58.280000          NaN  \n",
              "1094              15.100000          NaN  \n",
              "\n",
              "[1095 rows x 12 columns]"
            ],
            "text/html": [
              "\n",
              "  <div id=\"df-357c37d5-ab93-4acc-807e-f202623bd1dd\" class=\"colab-df-container\">\n",
              "    <div>\n",
              "<style scoped>\n",
              "    .dataframe tbody tr th:only-of-type {\n",
              "        vertical-align: middle;\n",
              "    }\n",
              "\n",
              "    .dataframe tbody tr th {\n",
              "        vertical-align: top;\n",
              "    }\n",
              "\n",
              "    .dataframe thead th {\n",
              "        text-align: right;\n",
              "    }\n",
              "</style>\n",
              "<table border=\"1\" class=\"dataframe\">\n",
              "  <thead>\n",
              "    <tr style=\"text-align: right;\">\n",
              "      <th></th>\n",
              "      <th>number</th>\n",
              "      <th>air_pressure_9am</th>\n",
              "      <th>air_temp_9am</th>\n",
              "      <th>avg_wind_direction_9am</th>\n",
              "      <th>avg_wind_speed_9am</th>\n",
              "      <th>max_wind_direction_9am</th>\n",
              "      <th>max_wind_speed_9am</th>\n",
              "      <th>rain_accumulation_9am</th>\n",
              "      <th>rain_duration_9am</th>\n",
              "      <th>relative_humidity_9am</th>\n",
              "      <th>relative_humidity_3pm</th>\n",
              "      <th>Unnamed: 11</th>\n",
              "    </tr>\n",
              "  </thead>\n",
              "  <tbody>\n",
              "    <tr>\n",
              "      <th>0</th>\n",
              "      <td>0</td>\n",
              "      <td>918.060000</td>\n",
              "      <td>74.822000</td>\n",
              "      <td>271.100000</td>\n",
              "      <td>2.080354</td>\n",
              "      <td>295.400000</td>\n",
              "      <td>2.863283</td>\n",
              "      <td>0.0</td>\n",
              "      <td>0.0</td>\n",
              "      <td>42.420000</td>\n",
              "      <td>36.160000</td>\n",
              "      <td>NaN</td>\n",
              "    </tr>\n",
              "    <tr>\n",
              "      <th>1</th>\n",
              "      <td>1</td>\n",
              "      <td>917.347688</td>\n",
              "      <td>71.403843</td>\n",
              "      <td>101.935179</td>\n",
              "      <td>2.443009</td>\n",
              "      <td>140.471549</td>\n",
              "      <td>3.533324</td>\n",
              "      <td>0.0</td>\n",
              "      <td>0.0</td>\n",
              "      <td>24.328697</td>\n",
              "      <td>19.426597</td>\n",
              "      <td>NaN</td>\n",
              "    </tr>\n",
              "    <tr>\n",
              "      <th>2</th>\n",
              "      <td>2</td>\n",
              "      <td>923.040000</td>\n",
              "      <td>60.638000</td>\n",
              "      <td>51.000000</td>\n",
              "      <td>17.067852</td>\n",
              "      <td>63.700000</td>\n",
              "      <td>22.100967</td>\n",
              "      <td>0.0</td>\n",
              "      <td>20.0</td>\n",
              "      <td>8.900000</td>\n",
              "      <td>14.460000</td>\n",
              "      <td>NaN</td>\n",
              "    </tr>\n",
              "    <tr>\n",
              "      <th>3</th>\n",
              "      <td>3</td>\n",
              "      <td>920.502751</td>\n",
              "      <td>70.138895</td>\n",
              "      <td>198.832133</td>\n",
              "      <td>4.337363</td>\n",
              "      <td>211.203341</td>\n",
              "      <td>5.190045</td>\n",
              "      <td>0.0</td>\n",
              "      <td>0.0</td>\n",
              "      <td>12.189102</td>\n",
              "      <td>12.742547</td>\n",
              "      <td>NaN</td>\n",
              "    </tr>\n",
              "    <tr>\n",
              "      <th>4</th>\n",
              "      <td>4</td>\n",
              "      <td>921.160000</td>\n",
              "      <td>44.294000</td>\n",
              "      <td>277.800000</td>\n",
              "      <td>1.856660</td>\n",
              "      <td>136.500000</td>\n",
              "      <td>2.863283</td>\n",
              "      <td>8.9</td>\n",
              "      <td>14730.0</td>\n",
              "      <td>92.410000</td>\n",
              "      <td>76.740000</td>\n",
              "      <td>NaN</td>\n",
              "    </tr>\n",
              "    <tr>\n",
              "      <th>...</th>\n",
              "      <td>...</td>\n",
              "      <td>...</td>\n",
              "      <td>...</td>\n",
              "      <td>...</td>\n",
              "      <td>...</td>\n",
              "      <td>...</td>\n",
              "      <td>...</td>\n",
              "      <td>...</td>\n",
              "      <td>...</td>\n",
              "      <td>...</td>\n",
              "      <td>...</td>\n",
              "      <td>...</td>\n",
              "    </tr>\n",
              "    <tr>\n",
              "      <th>1090</th>\n",
              "      <td>1090</td>\n",
              "      <td>918.900000</td>\n",
              "      <td>63.104000</td>\n",
              "      <td>192.900000</td>\n",
              "      <td>3.869906</td>\n",
              "      <td>207.300000</td>\n",
              "      <td>5.212070</td>\n",
              "      <td>0.0</td>\n",
              "      <td>0.0</td>\n",
              "      <td>26.020000</td>\n",
              "      <td>38.180000</td>\n",
              "      <td>NaN</td>\n",
              "    </tr>\n",
              "    <tr>\n",
              "      <th>1091</th>\n",
              "      <td>1091</td>\n",
              "      <td>918.710000</td>\n",
              "      <td>49.568000</td>\n",
              "      <td>241.600000</td>\n",
              "      <td>1.811921</td>\n",
              "      <td>227.400000</td>\n",
              "      <td>2.371156</td>\n",
              "      <td>0.0</td>\n",
              "      <td>0.0</td>\n",
              "      <td>90.350000</td>\n",
              "      <td>73.340000</td>\n",
              "      <td>NaN</td>\n",
              "    </tr>\n",
              "    <tr>\n",
              "      <th>1092</th>\n",
              "      <td>1092</td>\n",
              "      <td>916.600000</td>\n",
              "      <td>71.096000</td>\n",
              "      <td>189.300000</td>\n",
              "      <td>3.064608</td>\n",
              "      <td>200.800000</td>\n",
              "      <td>3.892276</td>\n",
              "      <td>0.0</td>\n",
              "      <td>0.0</td>\n",
              "      <td>45.590000</td>\n",
              "      <td>52.310000</td>\n",
              "      <td>NaN</td>\n",
              "    </tr>\n",
              "    <tr>\n",
              "      <th>1093</th>\n",
              "      <td>1093</td>\n",
              "      <td>912.600000</td>\n",
              "      <td>58.406000</td>\n",
              "      <td>172.700000</td>\n",
              "      <td>3.825167</td>\n",
              "      <td>189.100000</td>\n",
              "      <td>4.764682</td>\n",
              "      <td>0.0</td>\n",
              "      <td>0.0</td>\n",
              "      <td>64.840000</td>\n",
              "      <td>58.280000</td>\n",
              "      <td>NaN</td>\n",
              "    </tr>\n",
              "    <tr>\n",
              "      <th>1094</th>\n",
              "      <td>1094</td>\n",
              "      <td>921.530000</td>\n",
              "      <td>77.702000</td>\n",
              "      <td>97.100000</td>\n",
              "      <td>3.265932</td>\n",
              "      <td>125.900000</td>\n",
              "      <td>4.451511</td>\n",
              "      <td>0.0</td>\n",
              "      <td>0.0</td>\n",
              "      <td>14.560000</td>\n",
              "      <td>15.100000</td>\n",
              "      <td>NaN</td>\n",
              "    </tr>\n",
              "  </tbody>\n",
              "</table>\n",
              "<p>1095 rows × 12 columns</p>\n",
              "</div>\n",
              "    <div class=\"colab-df-buttons\">\n",
              "\n",
              "  <div class=\"colab-df-container\">\n",
              "    <button class=\"colab-df-convert\" onclick=\"convertToInteractive('df-357c37d5-ab93-4acc-807e-f202623bd1dd')\"\n",
              "            title=\"Convert this dataframe to an interactive table.\"\n",
              "            style=\"display:none;\">\n",
              "\n",
              "  <svg xmlns=\"http://www.w3.org/2000/svg\" height=\"24px\" viewBox=\"0 -960 960 960\">\n",
              "    <path d=\"M120-120v-720h720v720H120Zm60-500h600v-160H180v160Zm220 220h160v-160H400v160Zm0 220h160v-160H400v160ZM180-400h160v-160H180v160Zm440 0h160v-160H620v160ZM180-180h160v-160H180v160Zm440 0h160v-160H620v160Z\"/>\n",
              "  </svg>\n",
              "    </button>\n",
              "\n",
              "  <style>\n",
              "    .colab-df-container {\n",
              "      display:flex;\n",
              "      gap: 12px;\n",
              "    }\n",
              "\n",
              "    .colab-df-convert {\n",
              "      background-color: #E8F0FE;\n",
              "      border: none;\n",
              "      border-radius: 50%;\n",
              "      cursor: pointer;\n",
              "      display: none;\n",
              "      fill: #1967D2;\n",
              "      height: 32px;\n",
              "      padding: 0 0 0 0;\n",
              "      width: 32px;\n",
              "    }\n",
              "\n",
              "    .colab-df-convert:hover {\n",
              "      background-color: #E2EBFA;\n",
              "      box-shadow: 0px 1px 2px rgba(60, 64, 67, 0.3), 0px 1px 3px 1px rgba(60, 64, 67, 0.15);\n",
              "      fill: #174EA6;\n",
              "    }\n",
              "\n",
              "    .colab-df-buttons div {\n",
              "      margin-bottom: 4px;\n",
              "    }\n",
              "\n",
              "    [theme=dark] .colab-df-convert {\n",
              "      background-color: #3B4455;\n",
              "      fill: #D2E3FC;\n",
              "    }\n",
              "\n",
              "    [theme=dark] .colab-df-convert:hover {\n",
              "      background-color: #434B5C;\n",
              "      box-shadow: 0px 1px 3px 1px rgba(0, 0, 0, 0.15);\n",
              "      filter: drop-shadow(0px 1px 2px rgba(0, 0, 0, 0.3));\n",
              "      fill: #FFFFFF;\n",
              "    }\n",
              "  </style>\n",
              "\n",
              "    <script>\n",
              "      const buttonEl =\n",
              "        document.querySelector('#df-357c37d5-ab93-4acc-807e-f202623bd1dd button.colab-df-convert');\n",
              "      buttonEl.style.display =\n",
              "        google.colab.kernel.accessAllowed ? 'block' : 'none';\n",
              "\n",
              "      async function convertToInteractive(key) {\n",
              "        const element = document.querySelector('#df-357c37d5-ab93-4acc-807e-f202623bd1dd');\n",
              "        const dataTable =\n",
              "          await google.colab.kernel.invokeFunction('convertToInteractive',\n",
              "                                                    [key], {});\n",
              "        if (!dataTable) return;\n",
              "\n",
              "        const docLinkHtml = 'Like what you see? Visit the ' +\n",
              "          '<a target=\"_blank\" href=https://colab.research.google.com/notebooks/data_table.ipynb>data table notebook</a>'\n",
              "          + ' to learn more about interactive tables.';\n",
              "        element.innerHTML = '';\n",
              "        dataTable['output_type'] = 'display_data';\n",
              "        await google.colab.output.renderOutput(dataTable, element);\n",
              "        const docLink = document.createElement('div');\n",
              "        docLink.innerHTML = docLinkHtml;\n",
              "        element.appendChild(docLink);\n",
              "      }\n",
              "    </script>\n",
              "  </div>\n",
              "\n",
              "\n",
              "<div id=\"df-48f1598f-15d8-4de5-af53-476e80eca719\">\n",
              "  <button class=\"colab-df-quickchart\" onclick=\"quickchart('df-48f1598f-15d8-4de5-af53-476e80eca719')\"\n",
              "            title=\"Suggest charts\"\n",
              "            style=\"display:none;\">\n",
              "\n",
              "<svg xmlns=\"http://www.w3.org/2000/svg\" height=\"24px\"viewBox=\"0 0 24 24\"\n",
              "     width=\"24px\">\n",
              "    <g>\n",
              "        <path d=\"M19 3H5c-1.1 0-2 .9-2 2v14c0 1.1.9 2 2 2h14c1.1 0 2-.9 2-2V5c0-1.1-.9-2-2-2zM9 17H7v-7h2v7zm4 0h-2V7h2v10zm4 0h-2v-4h2v4z\"/>\n",
              "    </g>\n",
              "</svg>\n",
              "  </button>\n",
              "\n",
              "<style>\n",
              "  .colab-df-quickchart {\n",
              "      --bg-color: #E8F0FE;\n",
              "      --fill-color: #1967D2;\n",
              "      --hover-bg-color: #E2EBFA;\n",
              "      --hover-fill-color: #174EA6;\n",
              "      --disabled-fill-color: #AAA;\n",
              "      --disabled-bg-color: #DDD;\n",
              "  }\n",
              "\n",
              "  [theme=dark] .colab-df-quickchart {\n",
              "      --bg-color: #3B4455;\n",
              "      --fill-color: #D2E3FC;\n",
              "      --hover-bg-color: #434B5C;\n",
              "      --hover-fill-color: #FFFFFF;\n",
              "      --disabled-bg-color: #3B4455;\n",
              "      --disabled-fill-color: #666;\n",
              "  }\n",
              "\n",
              "  .colab-df-quickchart {\n",
              "    background-color: var(--bg-color);\n",
              "    border: none;\n",
              "    border-radius: 50%;\n",
              "    cursor: pointer;\n",
              "    display: none;\n",
              "    fill: var(--fill-color);\n",
              "    height: 32px;\n",
              "    padding: 0;\n",
              "    width: 32px;\n",
              "  }\n",
              "\n",
              "  .colab-df-quickchart:hover {\n",
              "    background-color: var(--hover-bg-color);\n",
              "    box-shadow: 0 1px 2px rgba(60, 64, 67, 0.3), 0 1px 3px 1px rgba(60, 64, 67, 0.15);\n",
              "    fill: var(--button-hover-fill-color);\n",
              "  }\n",
              "\n",
              "  .colab-df-quickchart-complete:disabled,\n",
              "  .colab-df-quickchart-complete:disabled:hover {\n",
              "    background-color: var(--disabled-bg-color);\n",
              "    fill: var(--disabled-fill-color);\n",
              "    box-shadow: none;\n",
              "  }\n",
              "\n",
              "  .colab-df-spinner {\n",
              "    border: 2px solid var(--fill-color);\n",
              "    border-color: transparent;\n",
              "    border-bottom-color: var(--fill-color);\n",
              "    animation:\n",
              "      spin 1s steps(1) infinite;\n",
              "  }\n",
              "\n",
              "  @keyframes spin {\n",
              "    0% {\n",
              "      border-color: transparent;\n",
              "      border-bottom-color: var(--fill-color);\n",
              "      border-left-color: var(--fill-color);\n",
              "    }\n",
              "    20% {\n",
              "      border-color: transparent;\n",
              "      border-left-color: var(--fill-color);\n",
              "      border-top-color: var(--fill-color);\n",
              "    }\n",
              "    30% {\n",
              "      border-color: transparent;\n",
              "      border-left-color: var(--fill-color);\n",
              "      border-top-color: var(--fill-color);\n",
              "      border-right-color: var(--fill-color);\n",
              "    }\n",
              "    40% {\n",
              "      border-color: transparent;\n",
              "      border-right-color: var(--fill-color);\n",
              "      border-top-color: var(--fill-color);\n",
              "    }\n",
              "    60% {\n",
              "      border-color: transparent;\n",
              "      border-right-color: var(--fill-color);\n",
              "    }\n",
              "    80% {\n",
              "      border-color: transparent;\n",
              "      border-right-color: var(--fill-color);\n",
              "      border-bottom-color: var(--fill-color);\n",
              "    }\n",
              "    90% {\n",
              "      border-color: transparent;\n",
              "      border-bottom-color: var(--fill-color);\n",
              "    }\n",
              "  }\n",
              "</style>\n",
              "\n",
              "  <script>\n",
              "    async function quickchart(key) {\n",
              "      const quickchartButtonEl =\n",
              "        document.querySelector('#' + key + ' button');\n",
              "      quickchartButtonEl.disabled = true;  // To prevent multiple clicks.\n",
              "      quickchartButtonEl.classList.add('colab-df-spinner');\n",
              "      try {\n",
              "        const charts = await google.colab.kernel.invokeFunction(\n",
              "            'suggestCharts', [key], {});\n",
              "      } catch (error) {\n",
              "        console.error('Error during call to suggestCharts:', error);\n",
              "      }\n",
              "      quickchartButtonEl.classList.remove('colab-df-spinner');\n",
              "      quickchartButtonEl.classList.add('colab-df-quickchart-complete');\n",
              "    }\n",
              "    (() => {\n",
              "      let quickchartButtonEl =\n",
              "        document.querySelector('#df-48f1598f-15d8-4de5-af53-476e80eca719 button');\n",
              "      quickchartButtonEl.style.display =\n",
              "        google.colab.kernel.accessAllowed ? 'block' : 'none';\n",
              "    })();\n",
              "  </script>\n",
              "</div>\n",
              "\n",
              "  <div id=\"id_337ac587-dfbf-4137-ab32-ec0851441711\">\n",
              "    <style>\n",
              "      .colab-df-generate {\n",
              "        background-color: #E8F0FE;\n",
              "        border: none;\n",
              "        border-radius: 50%;\n",
              "        cursor: pointer;\n",
              "        display: none;\n",
              "        fill: #1967D2;\n",
              "        height: 32px;\n",
              "        padding: 0 0 0 0;\n",
              "        width: 32px;\n",
              "      }\n",
              "\n",
              "      .colab-df-generate:hover {\n",
              "        background-color: #E2EBFA;\n",
              "        box-shadow: 0px 1px 2px rgba(60, 64, 67, 0.3), 0px 1px 3px 1px rgba(60, 64, 67, 0.15);\n",
              "        fill: #174EA6;\n",
              "      }\n",
              "\n",
              "      [theme=dark] .colab-df-generate {\n",
              "        background-color: #3B4455;\n",
              "        fill: #D2E3FC;\n",
              "      }\n",
              "\n",
              "      [theme=dark] .colab-df-generate:hover {\n",
              "        background-color: #434B5C;\n",
              "        box-shadow: 0px 1px 3px 1px rgba(0, 0, 0, 0.15);\n",
              "        filter: drop-shadow(0px 1px 2px rgba(0, 0, 0, 0.3));\n",
              "        fill: #FFFFFF;\n",
              "      }\n",
              "    </style>\n",
              "    <button class=\"colab-df-generate\" onclick=\"generateWithVariable('weather_data')\"\n",
              "            title=\"Generate code using this dataframe.\"\n",
              "            style=\"display:none;\">\n",
              "\n",
              "  <svg xmlns=\"http://www.w3.org/2000/svg\" height=\"24px\"viewBox=\"0 0 24 24\"\n",
              "       width=\"24px\">\n",
              "    <path d=\"M7,19H8.4L18.45,9,17,7.55,7,17.6ZM5,21V16.75L18.45,3.32a2,2,0,0,1,2.83,0l1.4,1.43a1.91,1.91,0,0,1,.58,1.4,1.91,1.91,0,0,1-.58,1.4L9.25,21ZM18.45,9,17,7.55Zm-12,3A5.31,5.31,0,0,0,4.9,8.1,5.31,5.31,0,0,0,1,6.5,5.31,5.31,0,0,0,4.9,4.9,5.31,5.31,0,0,0,6.5,1,5.31,5.31,0,0,0,8.1,4.9,5.31,5.31,0,0,0,12,6.5,5.46,5.46,0,0,0,6.5,12Z\"/>\n",
              "  </svg>\n",
              "    </button>\n",
              "    <script>\n",
              "      (() => {\n",
              "      const buttonEl =\n",
              "        document.querySelector('#id_337ac587-dfbf-4137-ab32-ec0851441711 button.colab-df-generate');\n",
              "      buttonEl.style.display =\n",
              "        google.colab.kernel.accessAllowed ? 'block' : 'none';\n",
              "\n",
              "      buttonEl.onclick = () => {\n",
              "        google.colab.notebook.generateWithVariable('weather_data');\n",
              "      }\n",
              "      })();\n",
              "    </script>\n",
              "  </div>\n",
              "\n",
              "    </div>\n",
              "  </div>\n"
            ],
            "application/vnd.google.colaboratory.intrinsic+json": {
              "type": "dataframe",
              "variable_name": "weather_data",
              "summary": "{\n  \"name\": \"weather_data\",\n  \"rows\": 1095,\n  \"fields\": [\n    {\n      \"column\": \"number\",\n      \"properties\": {\n        \"dtype\": \"number\",\n        \"std\": 316,\n        \"min\": 0,\n        \"max\": 1094,\n        \"num_unique_values\": 1095,\n        \"samples\": [\n          533,\n          139,\n          88\n        ],\n        \"semantic_type\": \"\",\n        \"description\": \"\"\n      }\n    },\n    {\n      \"column\": \"air_pressure_9am\",\n      \"properties\": {\n        \"dtype\": \"number\",\n        \"std\": 3.18416118142283,\n        \"min\": 907.99,\n        \"max\": 929.32,\n        \"num_unique_values\": 852,\n        \"samples\": [\n          925.5882714,\n          922.6394891,\n          918.14\n        ],\n        \"semantic_type\": \"\",\n        \"description\": \"\"\n      }\n    },\n    {\n      \"column\": \"air_temp_9am\",\n      \"properties\": {\n        \"dtype\": \"number\",\n        \"std\": 11.175514003266807,\n        \"min\": 36.752,\n        \"max\": 98.906,\n        \"num_unique_values\": 980,\n        \"samples\": [\n          73.4,\n          82.4,\n          50.00212297\n        ],\n        \"semantic_type\": \"\",\n        \"description\": \"\"\n      }\n    },\n    {\n      \"column\": \"avg_wind_direction_9am\",\n      \"properties\": {\n        \"dtype\": \"number\",\n        \"std\": 69.13785928883634,\n        \"min\": 15.5,\n        \"max\": 343.4,\n        \"num_unique_values\": 942,\n        \"samples\": [\n          166.8471586,\n          185.3958612,\n          123.9885434\n        ],\n        \"semantic_type\": \"\",\n        \"description\": \"\"\n      }\n    },\n    {\n      \"column\": \"avg_wind_speed_9am\",\n      \"properties\": {\n        \"dtype\": \"number\",\n        \"std\": 4.552813465529017,\n        \"min\": 0.6934514,\n        \"max\": 23.5549782,\n        \"num_unique_values\": 723,\n        \"samples\": [\n          3.4448876,\n          8.3661556,\n          5.3910254\n        ],\n        \"semantic_type\": \"\",\n        \"description\": \"\"\n      }\n    },\n    {\n      \"column\": \"max_wind_direction_9am\",\n      \"properties\": {\n        \"dtype\": \"number\",\n        \"std\": 67.23801294593561,\n        \"min\": 28.9,\n        \"max\": 312.2,\n        \"num_unique_values\": 943,\n        \"samples\": [\n          68.0,\n          190.1,\n          77.4913211\n        ],\n        \"semantic_type\": \"\",\n        \"description\": \"\"\n      }\n    },\n    {\n      \"column\": \"max_wind_speed_9am\",\n      \"properties\": {\n        \"dtype\": \"number\",\n        \"std\": 5.598209170789137,\n        \"min\": 1.1855782,\n        \"max\": 29.8407796,\n        \"num_unique_values\": 738,\n        \"samples\": [\n          11.73543121,\n          6.822667,\n          1.988785063\n        ],\n        \"semantic_type\": \"\",\n        \"description\": \"\"\n      }\n    },\n    {\n      \"column\": \"rain_accumulation_9am\",\n      \"properties\": {\n        \"dtype\": \"number\",\n        \"std\": 1.5939521253569486,\n        \"min\": 0.0,\n        \"max\": 24.02,\n        \"num_unique_values\": 82,\n        \"samples\": [\n          0.510196145,\n          0.0,\n          24.02\n        ],\n        \"semantic_type\": \"\",\n        \"description\": \"\"\n      }\n    },\n    {\n      \"column\": \"rain_duration_9am\",\n      \"properties\": {\n        \"dtype\": \"number\",\n        \"std\": 1598.0787786596147,\n        \"min\": 0.0,\n        \"max\": 17704.0,\n        \"num_unique_values\": 142,\n        \"samples\": [\n          15800.0,\n          460.0,\n          2230.0\n        ],\n        \"semantic_type\": \"\",\n        \"description\": \"\"\n      }\n    },\n    {\n      \"column\": \"relative_humidity_9am\",\n      \"properties\": {\n        \"dtype\": \"number\",\n        \"std\": 25.472066802254183,\n        \"min\": 6.09,\n        \"max\": 92.62,\n        \"num_unique_values\": 1052,\n        \"samples\": [\n          91.69,\n          80.6,\n          19.01460029\n        ],\n        \"semantic_type\": \"\",\n        \"description\": \"\"\n      }\n    },\n    {\n      \"column\": \"relative_humidity_3pm\",\n      \"properties\": {\n        \"dtype\": \"number\",\n        \"std\": 22.524079453607285,\n        \"min\": 5.3,\n        \"max\": 92.25,\n        \"num_unique_values\": 1054,\n        \"samples\": [\n          21.79370897,\n          33.19,\n          15.94\n        ],\n        \"semantic_type\": \"\",\n        \"description\": \"\"\n      }\n    },\n    {\n      \"column\": \"Unnamed: 11\",\n      \"properties\": {\n        \"dtype\": \"number\",\n        \"std\": null,\n        \"min\": null,\n        \"max\": null,\n        \"num_unique_values\": 0,\n        \"samples\": [],\n        \"semantic_type\": \"\",\n        \"description\": \"\"\n      }\n    }\n  ]\n}"
            }
          },
          "metadata": {},
          "execution_count": 9
        }
      ]
    },
    {
      "cell_type": "code",
      "source": [
        "if weather_data.isnull().sum().any():\n",
        "  #raise ValueError(\"Data contains missing values.Please handle preceeding values.\")\n",
        "  weather_data.fillna(weather_data.mean(),inplace=True)"
      ],
      "metadata": {
        "id": "b8MPAMe5EDfT"
      },
      "execution_count": 10,
      "outputs": []
    },
    {
      "cell_type": "code",
      "source": [
        "X=weather_data[['air_pressure_9am','air_temp_9am','avg_wind_direction_9am','avg_wind_speed_9am','max_wind_direction_9am','max_wind_speed_9am','rain_accumulation_9am','rain_duration_9am','relative_humidity_9am','relative_humidity_3pm']]"
      ],
      "metadata": {
        "id": "SjZjDzNg-4yp"
      },
      "execution_count": 11,
      "outputs": []
    },
    {
      "cell_type": "code",
      "source": [
        "print(weather_data.columns)"
      ],
      "metadata": {
        "colab": {
          "base_uri": "https://localhost:8080/"
        },
        "id": "hOpLMIHpck8w",
        "outputId": "219577ed-bf3f-440b-f1bf-c2589791304e"
      },
      "execution_count": 12,
      "outputs": [
        {
          "output_type": "stream",
          "name": "stdout",
          "text": [
            "Index(['number', 'air_pressure_9am', 'air_temp_9am', 'avg_wind_direction_9am',\n",
            "       'avg_wind_speed_9am', 'max_wind_direction_9am', 'max_wind_speed_9am',\n",
            "       'rain_accumulation_9am', 'rain_duration_9am', 'relative_humidity_9am',\n",
            "       'relative_humidity_3pm', 'Unnamed: 11'],\n",
            "      dtype='object')\n"
          ]
        }
      ]
    },
    {
      "cell_type": "code",
      "source": [
        "y=weather_data['air_pressure_9am']"
      ],
      "metadata": {
        "id": "TVMgE7_lAGJo"
      },
      "execution_count": 13,
      "outputs": []
    },
    {
      "cell_type": "code",
      "source": [
        "y=weather_data['air_temp_9am']"
      ],
      "metadata": {
        "id": "U5ZwPcpHeMzU"
      },
      "execution_count": 23,
      "outputs": []
    },
    {
      "cell_type": "code",
      "source": [
        "y=weather_data['avg_wind_direction_9am']"
      ],
      "metadata": {
        "id": "VX-j6x0xeNFh"
      },
      "execution_count": 32,
      "outputs": []
    },
    {
      "cell_type": "code",
      "source": [
        "y=weather_data['avg_wind_speed_9am']"
      ],
      "metadata": {
        "id": "dD1oR_26eNQ8"
      },
      "execution_count": null,
      "outputs": []
    },
    {
      "cell_type": "code",
      "source": [
        "y=weather_data['max_wind_direction_9am']"
      ],
      "metadata": {
        "id": "Y-BSo_fLeNUL"
      },
      "execution_count": null,
      "outputs": []
    },
    {
      "cell_type": "code",
      "source": [
        "y=weather_data['max_wind_speed_9am']"
      ],
      "metadata": {
        "id": "gGY6aGrueNWi"
      },
      "execution_count": null,
      "outputs": []
    },
    {
      "cell_type": "code",
      "source": [
        "y=weather_data['rain_accumulation_9am']"
      ],
      "metadata": {
        "id": "eL04iatDeNZa"
      },
      "execution_count": null,
      "outputs": []
    },
    {
      "cell_type": "code",
      "source": [
        "y=weather_data['rain_duration_9am']"
      ],
      "metadata": {
        "id": "sWAYhSVLeNcj"
      },
      "execution_count": null,
      "outputs": []
    },
    {
      "cell_type": "code",
      "source": [
        "y=weather_data['relative_humidity_9am']"
      ],
      "metadata": {
        "id": "sOqd1YjfeNfZ"
      },
      "execution_count": null,
      "outputs": []
    },
    {
      "cell_type": "code",
      "source": [
        "y=weather_data['relative_humidity_3pm']"
      ],
      "metadata": {
        "id": "UlKlg6gzeNiH"
      },
      "execution_count": null,
      "outputs": []
    },
    {
      "cell_type": "code",
      "source": [
        "if weather_data.isnull().sum().any():\n",
        "  weather_data.fillna(weather_data.mean(),inplace=True)"
      ],
      "metadata": {
        "id": "Vr_V-IryfQJO"
      },
      "execution_count": 33,
      "outputs": []
    },
    {
      "cell_type": "code",
      "source": [
        "X_train,X_test,y_train,y_test=train_test_split(X,y,test_size=0.2,random_state=42)"
      ],
      "metadata": {
        "id": "iI2AOYyzCM4s"
      },
      "execution_count": 34,
      "outputs": []
    },
    {
      "cell_type": "code",
      "source": [
        "from sklearn.ensemble import RandomForestRegressor\n",
        "rfc=RandomForestRegressor(n_estimators=100,random_state=42)\n",
        "rfc.fit(X_train,y_train)"
      ],
      "metadata": {
        "colab": {
          "base_uri": "https://localhost:8080/",
          "height": 74
        },
        "id": "jMOFA0bWBFDN",
        "outputId": "b3b54774-d61a-4b88-912a-2f532e254558"
      },
      "execution_count": 35,
      "outputs": [
        {
          "output_type": "execute_result",
          "data": {
            "text/plain": [
              "RandomForestRegressor(random_state=42)"
            ],
            "text/html": [
              "<style>#sk-container-id-3 {color: black;}#sk-container-id-3 pre{padding: 0;}#sk-container-id-3 div.sk-toggleable {background-color: white;}#sk-container-id-3 label.sk-toggleable__label {cursor: pointer;display: block;width: 100%;margin-bottom: 0;padding: 0.3em;box-sizing: border-box;text-align: center;}#sk-container-id-3 label.sk-toggleable__label-arrow:before {content: \"▸\";float: left;margin-right: 0.25em;color: #696969;}#sk-container-id-3 label.sk-toggleable__label-arrow:hover:before {color: black;}#sk-container-id-3 div.sk-estimator:hover label.sk-toggleable__label-arrow:before {color: black;}#sk-container-id-3 div.sk-toggleable__content {max-height: 0;max-width: 0;overflow: hidden;text-align: left;background-color: #f0f8ff;}#sk-container-id-3 div.sk-toggleable__content pre {margin: 0.2em;color: black;border-radius: 0.25em;background-color: #f0f8ff;}#sk-container-id-3 input.sk-toggleable__control:checked~div.sk-toggleable__content {max-height: 200px;max-width: 100%;overflow: auto;}#sk-container-id-3 input.sk-toggleable__control:checked~label.sk-toggleable__label-arrow:before {content: \"▾\";}#sk-container-id-3 div.sk-estimator input.sk-toggleable__control:checked~label.sk-toggleable__label {background-color: #d4ebff;}#sk-container-id-3 div.sk-label input.sk-toggleable__control:checked~label.sk-toggleable__label {background-color: #d4ebff;}#sk-container-id-3 input.sk-hidden--visually {border: 0;clip: rect(1px 1px 1px 1px);clip: rect(1px, 1px, 1px, 1px);height: 1px;margin: -1px;overflow: hidden;padding: 0;position: absolute;width: 1px;}#sk-container-id-3 div.sk-estimator {font-family: monospace;background-color: #f0f8ff;border: 1px dotted black;border-radius: 0.25em;box-sizing: border-box;margin-bottom: 0.5em;}#sk-container-id-3 div.sk-estimator:hover {background-color: #d4ebff;}#sk-container-id-3 div.sk-parallel-item::after {content: \"\";width: 100%;border-bottom: 1px solid gray;flex-grow: 1;}#sk-container-id-3 div.sk-label:hover label.sk-toggleable__label {background-color: #d4ebff;}#sk-container-id-3 div.sk-serial::before {content: \"\";position: absolute;border-left: 1px solid gray;box-sizing: border-box;top: 0;bottom: 0;left: 50%;z-index: 0;}#sk-container-id-3 div.sk-serial {display: flex;flex-direction: column;align-items: center;background-color: white;padding-right: 0.2em;padding-left: 0.2em;position: relative;}#sk-container-id-3 div.sk-item {position: relative;z-index: 1;}#sk-container-id-3 div.sk-parallel {display: flex;align-items: stretch;justify-content: center;background-color: white;position: relative;}#sk-container-id-3 div.sk-item::before, #sk-container-id-3 div.sk-parallel-item::before {content: \"\";position: absolute;border-left: 1px solid gray;box-sizing: border-box;top: 0;bottom: 0;left: 50%;z-index: -1;}#sk-container-id-3 div.sk-parallel-item {display: flex;flex-direction: column;z-index: 1;position: relative;background-color: white;}#sk-container-id-3 div.sk-parallel-item:first-child::after {align-self: flex-end;width: 50%;}#sk-container-id-3 div.sk-parallel-item:last-child::after {align-self: flex-start;width: 50%;}#sk-container-id-3 div.sk-parallel-item:only-child::after {width: 0;}#sk-container-id-3 div.sk-dashed-wrapped {border: 1px dashed gray;margin: 0 0.4em 0.5em 0.4em;box-sizing: border-box;padding-bottom: 0.4em;background-color: white;}#sk-container-id-3 div.sk-label label {font-family: monospace;font-weight: bold;display: inline-block;line-height: 1.2em;}#sk-container-id-3 div.sk-label-container {text-align: center;}#sk-container-id-3 div.sk-container {/* jupyter's `normalize.less` sets `[hidden] { display: none; }` but bootstrap.min.css set `[hidden] { display: none !important; }` so we also need the `!important` here to be able to override the default hidden behavior on the sphinx rendered scikit-learn.org. See: https://github.com/scikit-learn/scikit-learn/issues/21755 */display: inline-block !important;position: relative;}#sk-container-id-3 div.sk-text-repr-fallback {display: none;}</style><div id=\"sk-container-id-3\" class=\"sk-top-container\"><div class=\"sk-text-repr-fallback\"><pre>RandomForestRegressor(random_state=42)</pre><b>In a Jupyter environment, please rerun this cell to show the HTML representation or trust the notebook. <br />On GitHub, the HTML representation is unable to render, please try loading this page with nbviewer.org.</b></div><div class=\"sk-container\" hidden><div class=\"sk-item\"><div class=\"sk-estimator sk-toggleable\"><input class=\"sk-toggleable__control sk-hidden--visually\" id=\"sk-estimator-id-3\" type=\"checkbox\" checked><label for=\"sk-estimator-id-3\" class=\"sk-toggleable__label sk-toggleable__label-arrow\">RandomForestRegressor</label><div class=\"sk-toggleable__content\"><pre>RandomForestRegressor(random_state=42)</pre></div></div></div></div></div>"
            ]
          },
          "metadata": {},
          "execution_count": 35
        }
      ]
    },
    {
      "cell_type": "code",
      "source": [
        "accuracy=rfc.score(X_test,y_test)\n",
        "print(f'Model Accuracy:{accuracy:.3f}')"
      ],
      "metadata": {
        "colab": {
          "base_uri": "https://localhost:8080/"
        },
        "id": "Dc2L33F4F098",
        "outputId": "4e09d0b8-78ea-4879-eaac-470e1caf620d"
      },
      "execution_count": 36,
      "outputs": [
        {
          "output_type": "stream",
          "name": "stdout",
          "text": [
            "Model Accuracy:1.000\n"
          ]
        }
      ]
    },
    {
      "cell_type": "code",
      "source": [
        "cv_score=cross_val_score(rfc,X,y,cv=5)\n",
        "print(f'Cross Validation Score:{cv_score.mean():.3f}')"
      ],
      "metadata": {
        "colab": {
          "base_uri": "https://localhost:8080/"
        },
        "id": "i89sXwkGGKfR",
        "outputId": "a240755c-f1c8-45b1-bb80-c6e8049e184a"
      },
      "execution_count": 37,
      "outputs": [
        {
          "output_type": "stream",
          "name": "stdout",
          "text": [
            "Cross Validation Score:1.000\n"
          ]
        }
      ]
    },
    {
      "cell_type": "code",
      "source": [
        "feature_importance=rfc.feature_importances_\n",
        "print('Feature Importance:')\n",
        "for feature , importance in zip(X.columns,feature_importance):\n",
        "  print(f'[feature]:{importance:.3f}')"
      ],
      "metadata": {
        "colab": {
          "base_uri": "https://localhost:8080/"
        },
        "id": "NlUo2PLYJUtf",
        "outputId": "d40fa278-a709-4886-86d1-7383014126ad"
      },
      "execution_count": 38,
      "outputs": [
        {
          "output_type": "stream",
          "name": "stdout",
          "text": [
            "Feature Importance:\n",
            "[feature]:0.000\n",
            "[feature]:0.000\n",
            "[feature]:1.000\n",
            "[feature]:0.000\n",
            "[feature]:0.000\n",
            "[feature]:0.000\n",
            "[feature]:0.000\n",
            "[feature]:0.000\n",
            "[feature]:0.000\n",
            "[feature]:0.000\n"
          ]
        }
      ]
    },
    {
      "cell_type": "code",
      "source": [
        "y_pred=rfc.predict(X_test)\n",
        "#print('Confusion Matrix:')\n",
        "#print(confusion_matrix(y_test,y_pred))\n",
        "print('Mean Squared Error:')\n",
        "print(mean_squared_error(y_test,y_pred))\n",
        "print('R Squared:')\n",
        "print(r2_score(y_test,y_pred))\n",
        "#print('Classification report:')\n",
        "#print(classification_report(y_test,y_pred))\n",
        "#print('Accuracy Score:')\n",
        "#print(accuracy_score(y_test,y_pred))"
      ],
      "metadata": {
        "id": "S_OBK28YJ5q5",
        "colab": {
          "base_uri": "https://localhost:8080/"
        },
        "outputId": "7206eb4d-3a29-4224-cecc-8d8f66ca3fa0"
      },
      "execution_count": 39,
      "outputs": [
        {
          "output_type": "stream",
          "name": "stdout",
          "text": [
            "Mean Squared Error:\n",
            "2.3500139879475523\n",
            "R Squared:\n",
            "0.9995115486101877\n"
          ]
        }
      ]
    },
    {
      "cell_type": "code",
      "source": [
        "# Example of visualizing predictions vs actual values\n",
        "#!pip install matplotlib\n",
        "import matplotlib.pyplot as plt\n",
        "plt.scatter(y_test, y_pred)\n",
        "plt.xlabel('Actual Values')\n",
        "plt.ylabel('Predicted Values')\n",
        "plt.title('Actual vs Predicted Values')\n",
        "plt.show()"
      ],
      "metadata": {
        "colab": {
          "base_uri": "https://localhost:8080/",
          "height": 472
        },
        "id": "e4mU9KE5K39Q",
        "outputId": "641da55e-98ec-41dc-d199-c15b586688b8"
      },
      "execution_count": 40,
      "outputs": [
        {
          "output_type": "display_data",
          "data": {
            "text/plain": [
              "<Figure size 640x480 with 1 Axes>"
            ],
            "image/png": "[encoded data removed]"
          },
          "metadata": {}
        }
      ]
    }
  ]
}